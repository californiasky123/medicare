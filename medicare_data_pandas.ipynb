{
 "cells": [
  {
   "cell_type": "markdown",
   "metadata": {},
   "source": [
    "# Medicare Data Pandas"
   ]
  },
  {
   "cell_type": "code",
   "execution_count": 2,
   "metadata": {},
   "outputs": [],
   "source": [
    "import pandas as pd\n",
    "fname = \"Inpatient_Prospective_Payment_System__IPPS__Provider_Summary_for_the_Top_100_Diagnosis-Related_Groups__DRG__-_FY2011.csv\"\n",
    "\n",
    "df = pd.read_csv(fname)"
   ]
  },
  {
   "cell_type": "code",
   "execution_count": 3,
   "metadata": {},
   "outputs": [],
   "source": [
    "new_cols = ['drg_desc', 'old_provider_id', 'provider_name', 'street', 'city_name', 'state_name', 'zip', 'referral_region_desc', 'total_discharges', 'avg_cov_charges', 'avg_total_payment', 'avg_med_payment']"
   ]
  },
  {
   "cell_type": "code",
   "execution_count": 4,
   "metadata": {},
   "outputs": [],
   "source": [
    "df.columns = new_cols"
   ]
  },
  {
   "cell_type": "code",
   "execution_count": 5,
   "metadata": {},
   "outputs": [
    {
     "data": {
      "text/html": [
       "<div>\n",
       "<style scoped>\n",
       "    .dataframe tbody tr th:only-of-type {\n",
       "        vertical-align: middle;\n",
       "    }\n",
       "\n",
       "    .dataframe tbody tr th {\n",
       "        vertical-align: top;\n",
       "    }\n",
       "\n",
       "    .dataframe thead th {\n",
       "        text-align: right;\n",
       "    }\n",
       "</style>\n",
       "<table border=\"1\" class=\"dataframe\">\n",
       "  <thead>\n",
       "    <tr style=\"text-align: right;\">\n",
       "      <th></th>\n",
       "      <th>drg_desc</th>\n",
       "      <th>old_provider_id</th>\n",
       "      <th>provider_name</th>\n",
       "      <th>street</th>\n",
       "      <th>city_name</th>\n",
       "      <th>state_name</th>\n",
       "      <th>zip</th>\n",
       "      <th>referral_region_desc</th>\n",
       "      <th>total_discharges</th>\n",
       "      <th>avg_cov_charges</th>\n",
       "      <th>avg_total_payment</th>\n",
       "      <th>avg_med_payment</th>\n",
       "    </tr>\n",
       "  </thead>\n",
       "  <tbody>\n",
       "    <tr>\n",
       "      <th>0</th>\n",
       "      <td>039 - EXTRACRANIAL PROCEDURES W/O CC/MCC</td>\n",
       "      <td>10001</td>\n",
       "      <td>SOUTHEAST ALABAMA MEDICAL CENTER</td>\n",
       "      <td>1108 ROSS CLARK CIRCLE</td>\n",
       "      <td>DOTHAN</td>\n",
       "      <td>AL</td>\n",
       "      <td>36301</td>\n",
       "      <td>AL - Dothan</td>\n",
       "      <td>91</td>\n",
       "      <td>32963.07</td>\n",
       "      <td>5777.24</td>\n",
       "      <td>4763.73</td>\n",
       "    </tr>\n",
       "    <tr>\n",
       "      <th>1</th>\n",
       "      <td>039 - EXTRACRANIAL PROCEDURES W/O CC/MCC</td>\n",
       "      <td>10005</td>\n",
       "      <td>MARSHALL MEDICAL CENTER SOUTH</td>\n",
       "      <td>2505 U S HIGHWAY 431 NORTH</td>\n",
       "      <td>BOAZ</td>\n",
       "      <td>AL</td>\n",
       "      <td>35957</td>\n",
       "      <td>AL - Birmingham</td>\n",
       "      <td>14</td>\n",
       "      <td>15131.85</td>\n",
       "      <td>5787.57</td>\n",
       "      <td>4976.71</td>\n",
       "    </tr>\n",
       "    <tr>\n",
       "      <th>2</th>\n",
       "      <td>039 - EXTRACRANIAL PROCEDURES W/O CC/MCC</td>\n",
       "      <td>10006</td>\n",
       "      <td>ELIZA COFFEE MEMORIAL HOSPITAL</td>\n",
       "      <td>205 MARENGO STREET</td>\n",
       "      <td>FLORENCE</td>\n",
       "      <td>AL</td>\n",
       "      <td>35631</td>\n",
       "      <td>AL - Birmingham</td>\n",
       "      <td>24</td>\n",
       "      <td>37560.37</td>\n",
       "      <td>5434.95</td>\n",
       "      <td>4453.79</td>\n",
       "    </tr>\n",
       "    <tr>\n",
       "      <th>3</th>\n",
       "      <td>039 - EXTRACRANIAL PROCEDURES W/O CC/MCC</td>\n",
       "      <td>10011</td>\n",
       "      <td>ST VINCENT'S EAST</td>\n",
       "      <td>50 MEDICAL PARK EAST DRIVE</td>\n",
       "      <td>BIRMINGHAM</td>\n",
       "      <td>AL</td>\n",
       "      <td>35235</td>\n",
       "      <td>AL - Birmingham</td>\n",
       "      <td>25</td>\n",
       "      <td>13998.28</td>\n",
       "      <td>5417.56</td>\n",
       "      <td>4129.16</td>\n",
       "    </tr>\n",
       "    <tr>\n",
       "      <th>4</th>\n",
       "      <td>039 - EXTRACRANIAL PROCEDURES W/O CC/MCC</td>\n",
       "      <td>10016</td>\n",
       "      <td>SHELBY BAPTIST MEDICAL CENTER</td>\n",
       "      <td>1000 FIRST STREET NORTH</td>\n",
       "      <td>ALABASTER</td>\n",
       "      <td>AL</td>\n",
       "      <td>35007</td>\n",
       "      <td>AL - Birmingham</td>\n",
       "      <td>18</td>\n",
       "      <td>31633.27</td>\n",
       "      <td>5658.33</td>\n",
       "      <td>4851.44</td>\n",
       "    </tr>\n",
       "  </tbody>\n",
       "</table>\n",
       "</div>"
      ],
      "text/plain": [
       "                                   drg_desc  old_provider_id  \\\n",
       "0  039 - EXTRACRANIAL PROCEDURES W/O CC/MCC            10001   \n",
       "1  039 - EXTRACRANIAL PROCEDURES W/O CC/MCC            10005   \n",
       "2  039 - EXTRACRANIAL PROCEDURES W/O CC/MCC            10006   \n",
       "3  039 - EXTRACRANIAL PROCEDURES W/O CC/MCC            10011   \n",
       "4  039 - EXTRACRANIAL PROCEDURES W/O CC/MCC            10016   \n",
       "\n",
       "                      provider_name                      street   city_name  \\\n",
       "0  SOUTHEAST ALABAMA MEDICAL CENTER      1108 ROSS CLARK CIRCLE      DOTHAN   \n",
       "1     MARSHALL MEDICAL CENTER SOUTH  2505 U S HIGHWAY 431 NORTH        BOAZ   \n",
       "2    ELIZA COFFEE MEMORIAL HOSPITAL          205 MARENGO STREET    FLORENCE   \n",
       "3                 ST VINCENT'S EAST  50 MEDICAL PARK EAST DRIVE  BIRMINGHAM   \n",
       "4     SHELBY BAPTIST MEDICAL CENTER     1000 FIRST STREET NORTH   ALABASTER   \n",
       "\n",
       "  state_name    zip referral_region_desc  total_discharges  avg_cov_charges  \\\n",
       "0         AL  36301          AL - Dothan                91         32963.07   \n",
       "1         AL  35957      AL - Birmingham                14         15131.85   \n",
       "2         AL  35631      AL - Birmingham                24         37560.37   \n",
       "3         AL  35235      AL - Birmingham                25         13998.28   \n",
       "4         AL  35007      AL - Birmingham                18         31633.27   \n",
       "\n",
       "   avg_total_payment  avg_med_payment  \n",
       "0            5777.24          4763.73  \n",
       "1            5787.57          4976.71  \n",
       "2            5434.95          4453.79  \n",
       "3            5417.56          4129.16  \n",
       "4            5658.33          4851.44  "
      ]
     },
     "execution_count": 5,
     "metadata": {},
     "output_type": "execute_result"
    }
   ],
   "source": [
    "df.head()"
   ]
  },
  {
   "cell_type": "code",
   "execution_count": 15,
   "metadata": {},
   "outputs": [
    {
     "name": "stdout",
     "output_type": "stream",
     "text": [
      "['drg_desc', 'old_provider_id', 'provider_name', 'street', 'city_name', 'state_name', 'zip', 'referral_region_desc', 'total_discharges', 'avg_cov_charges', 'avg_total_payment', 'avg_med_payment']\n"
     ]
    }
   ],
   "source": [
    "print(list(df.columns))"
   ]
  },
  {
   "cell_type": "markdown",
   "metadata": {},
   "source": [
    "TABLES TO MAKE: drg, provider_drg, provider, referral_region, address, city, state;"
   ]
  },
  {
   "cell_type": "code",
   "execution_count": null,
   "metadata": {},
   "outputs": [],
   "source": [
    "for each in tables_to_make(): \n",
    "    table = get_unique('each')\n",
    "    with as fname: \n",
    "        csv.write(table)"
   ]
  },
  {
   "cell_type": "markdown",
   "metadata": {},
   "source": [
    "## Create states "
   ]
  },
  {
   "cell_type": "code",
   "execution_count": null,
   "metadata": {},
   "outputs": [],
   "source": [
    "CREATE TABLE IF NOT EXISTS state\n",
    "  (\n",
    "    state_id INTEGER NOT NULL AUTO_INCREMENT UNIQUE,\n",
    "    state_name VARCHAR(100) NOT NULL UNIQUE,\n",
    "    PRIMARY KEY (state_id)\n",
    "  )\n",
    "ENGINE=InnoDB\n",
    "CHARACTER SET utf8mb4\n",
    "COLLATE utf8mb4_0900_ai_ci;"
   ]
  },
  {
   "cell_type": "code",
   "execution_count": 37,
   "metadata": {},
   "outputs": [
    {
     "name": "stdout",
     "output_type": "stream",
     "text": [
      "state_name\n",
      "163065\n",
      "51\n",
      "['AL' 'AK' 'AZ' 'AR' 'CA' 'CO' 'CT' 'DE' 'DC' 'FL' 'GA' 'HI' 'ID' 'IL'\n",
      " 'IN' 'IA' 'KS' 'KY' 'LA' 'ME' 'MD' 'MA' 'MI' 'MN' 'MS' 'TX' 'MO' 'MT'\n",
      " 'NE' 'NV' 'NH' 'NJ' 'NM' 'NY' 'NC' 'ND' 'OH' 'OK' 'OR' 'PA' 'RI' 'SC'\n",
      " 'SD' 'TN' 'UT' 'VT' 'VA' 'WA' 'WV' 'WI' 'WY']\n"
     ]
    }
   ],
   "source": [
    "state_table = get_unique('state_name')"
   ]
  },
  {
   "cell_type": "code",
   "execution_count": null,
   "metadata": {},
   "outputs": [],
   "source": [
    "for each in state_table: \n",
    "    df['state_id'] = autoincrement ## add an ID for each state\n",
    "    ## push this ID back into the main table "
   ]
  },
  {
   "cell_type": "markdown",
   "metadata": {},
   "source": [
    "## Create cities table"
   ]
  },
  {
   "cell_type": "code",
   "execution_count": null,
   "metadata": {},
   "outputs": [],
   "source": [
    "CREATE TABLE IF NOT EXISTS city\n",
    "  (\n",
    "    city_id INTEGER NOT NULL AUTO_INCREMENT UNIQUE,\n",
    "    city_name VARCHAR(100) NOT NULL UNIQUE,\n",
    "    state_id INTEGER NOT NULL,\n",
    "    PRIMARY KEY (city_id),\n",
    "    FOREIGN KEY (state_id) REFERENCES state(state_id) ON DELETE RESTRICT ON UPDATE CASCADE\n",
    "  )\n",
    "ENGINE=InnoDB\n",
    "CHARACTER SET utf8mb4\n",
    "COLLATE utf8mb4_0900_ai_ci;"
   ]
  },
  {
   "cell_type": "code",
   "execution_count": null,
   "metadata": {},
   "outputs": [],
   "source": [
    "cities_table = get_unique('city_name')"
   ]
  },
  {
   "cell_type": "code",
   "execution_count": null,
   "metadata": {},
   "outputs": [],
   "source": [
    "for each in city_table: \n",
    "    df['city_id'] = autoincrement ## add an ID for each state\n",
    "    ## push this ID back into the main table "
   ]
  },
  {
   "cell_type": "markdown",
   "metadata": {},
   "source": [
    "### Changes to city and state table"
   ]
  },
  {
   "cell_type": "markdown",
   "metadata": {},
   "source": [
    "Need to check if state and city_state ever co-occur (likely they do) - i.e .Detroit OR and Detroit MI \n",
    "Create concat of city and state. Assign unique ID to this. "
   ]
  },
  {
   "cell_type": "code",
   "execution_count": null,
   "metadata": {},
   "outputs": [],
   "source": [
    "# Table name: city_state\n",
    "\n",
    "# PK  = city_state_id\n",
    "# Column 1 = city-state name\n",
    "# Column 2 = city\n",
    "# Column 3 = state"
   ]
  },
  {
   "cell_type": "code",
   "execution_count": null,
   "metadata": {},
   "outputs": [],
   "source": [
    "# Table name: address\n",
    "\n",
    "# PK = address ID \n",
    "# Col 1 = Address value \n",
    "# Col 2 = City-state value \n",
    "# Col 3 = Zip "
   ]
  },
  {
   "cell_type": "code",
   "execution_count": null,
   "metadata": {},
   "outputs": [],
   "source": [
    "# Table name: address\n",
    "\n",
    "# PK = address ID \n",
    "# Col 1 = Address value \n",
    "# Col 2 = City-state value \n",
    "# Col 3 = Zip "
   ]
  },
  {
   "cell_type": "markdown",
   "metadata": {},
   "source": [
    "Outcome here is that I just wrap my city and state tables into a single table, and end up with one less table overall. "
   ]
  },
  {
   "cell_type": "markdown",
   "metadata": {},
   "source": [
    "## Others"
   ]
  },
  {
   "cell_type": "code",
   "execution_count": 27,
   "metadata": {},
   "outputs": [
    {
     "name": "stdout",
     "output_type": "stream",
     "text": [
      "old_provider_id\n",
      "163065\n",
      "3337\n",
      "[ 10001  10005  10006 ... 390025 390272 390278]\n"
     ]
    }
   ],
   "source": [
    "old_provider_id_table = get_unique('old_provider_id')"
   ]
  },
  {
   "cell_type": "code",
   "execution_count": 29,
   "metadata": {},
   "outputs": [
    {
     "name": "stdout",
     "output_type": "stream",
     "text": [
      "drg_desc\n",
      "163065\n",
      "100\n",
      "['039 - EXTRACRANIAL PROCEDURES W/O CC/MCC'\n",
      " '057 - DEGENERATIVE NERVOUS SYSTEM DISORDERS W/O MCC'\n",
      " '069 - TRANSIENT ISCHEMIA'\n",
      " '064 - INTRACRANIAL HEMORRHAGE OR CEREBRAL INFARCTION W MCC'\n",
      " '065 - INTRACRANIAL HEMORRHAGE OR CEREBRAL INFARCTION W CC'\n",
      " '066 - INTRACRANIAL HEMORRHAGE OR CEREBRAL INFARCTION W/O CC/MCC'\n",
      " '074 - CRANIAL & PERIPHERAL NERVE DISORDERS W/O MCC'\n",
      " '101 - SEIZURES W/O MCC' '149 - DYSEQUILIBRIUM'\n",
      " '176 - PULMONARY EMBOLISM W/O MCC'\n",
      " '177 - RESPIRATORY INFECTIONS & INFLAMMATIONS W MCC'\n",
      " '189 - PULMONARY EDEMA & RESPIRATORY FAILURE'\n",
      " '178 - RESPIRATORY INFECTIONS & INFLAMMATIONS W CC'\n",
      " '190 - CHRONIC OBSTRUCTIVE PULMONARY DISEASE W MCC'\n",
      " '191 - CHRONIC OBSTRUCTIVE PULMONARY DISEASE W CC'\n",
      " '193 - SIMPLE PNEUMONIA & PLEURISY W MCC'\n",
      " '194 - SIMPLE PNEUMONIA & PLEURISY W CC'\n",
      " '192 - CHRONIC OBSTRUCTIVE PULMONARY DISEASE W/O CC/MCC'\n",
      " '195 - SIMPLE PNEUMONIA & PLEURISY W/O CC/MCC'\n",
      " '202 - BRONCHITIS & ASTHMA W CC/MCC'\n",
      " '203 - BRONCHITIS & ASTHMA W/O CC/MCC'\n",
      " '207 - RESPIRATORY SYSTEM DIAGNOSIS W VENTILATOR SUPPORT 96+ HOURS'\n",
      " '238 - MAJOR CARDIOVASC PROCEDURES W/O MCC'\n",
      " '252 - OTHER VASCULAR PROCEDURES W MCC'\n",
      " '253 - OTHER VASCULAR PROCEDURES W CC'\n",
      " '208 - RESPIRATORY SYSTEM DIAGNOSIS W VENTILATOR SUPPORT <96 HOURS'\n",
      " '254 - OTHER VASCULAR PROCEDURES W/O CC/MCC'\n",
      " '291 - HEART FAILURE & SHOCK W MCC'\n",
      " '243 - PERMANENT CARDIAC PACEMAKER IMPLANT W CC'\n",
      " '244 - PERMANENT CARDIAC PACEMAKER IMPLANT W/O CC/MCC'\n",
      " '246 - PERC CARDIOVASC PROC W DRUG-ELUTING STENT W MCC OR 4+ VESSELS/STENTS'\n",
      " '247 - PERC CARDIOVASC PROC W DRUG-ELUTING STENT W/O MCC'\n",
      " '249 - PERC CARDIOVASC PROC W NON-DRUG-ELUTING STENT W/O MCC'\n",
      " '251 - PERC CARDIOVASC PROC W/O CORONARY ARTERY STENT W/O MCC'\n",
      " '280 - ACUTE MYOCARDIAL INFARCTION, DISCHARGED ALIVE W MCC'\n",
      " '292 - HEART FAILURE & SHOCK W CC'\n",
      " '281 - ACUTE MYOCARDIAL INFARCTION, DISCHARGED ALIVE W CC'\n",
      " '282 - ACUTE MYOCARDIAL INFARCTION, DISCHARGED ALIVE W/O CC/MCC'\n",
      " '286 - CIRCULATORY DISORDERS EXCEPT AMI, W CARD CATH W MCC'\n",
      " '287 - CIRCULATORY DISORDERS EXCEPT AMI, W CARD CATH W/O MCC'\n",
      " '293 - HEART FAILURE & SHOCK W/O CC/MCC'\n",
      " '300 - PERIPHERAL VASCULAR DISORDERS W CC'\n",
      " '301 - PERIPHERAL VASCULAR DISORDERS W/O CC/MCC'\n",
      " '303 - ATHEROSCLEROSIS W/O MCC' '305 - HYPERTENSION W/O MCC'\n",
      " '308 - CARDIAC ARRHYTHMIA & CONDUCTION DISORDERS W MCC'\n",
      " '312 - SYNCOPE & COLLAPSE'\n",
      " '309 - CARDIAC ARRHYTHMIA & CONDUCTION DISORDERS W CC'\n",
      " '310 - CARDIAC ARRHYTHMIA & CONDUCTION DISORDERS W/O CC/MCC'\n",
      " '313 - CHEST PAIN' '314 - OTHER CIRCULATORY SYSTEM DIAGNOSES W MCC'\n",
      " '315 - OTHER CIRCULATORY SYSTEM DIAGNOSES W CC'\n",
      " '330 - MAJOR SMALL & LARGE BOWEL PROCEDURES W CC'\n",
      " '377 - G.I. HEMORRHAGE W MCC'\n",
      " '329 - MAJOR SMALL & LARGE BOWEL PROCEDURES W MCC'\n",
      " '372 - MAJOR GASTROINTESTINAL DISORDERS & PERITONEAL INFECTIONS W CC'\n",
      " '378 - G.I. HEMORRHAGE W CC' '379 - G.I. HEMORRHAGE W/O CC/MCC'\n",
      " '389 - G.I. OBSTRUCTION W CC' '390 - G.I. OBSTRUCTION W/O CC/MCC'\n",
      " '391 - ESOPHAGITIS, GASTROENT & MISC DIGEST DISORDERS W MCC'\n",
      " '394 - OTHER DIGESTIVE SYSTEM DIAGNOSES W CC'\n",
      " '439 - DISORDERS OF PANCREAS EXCEPT MALIGNANCY W CC'\n",
      " '392 - ESOPHAGITIS, GASTROENT & MISC DIGEST DISORDERS W/O MCC'\n",
      " '460 - SPINAL FUSION EXCEPT CERVICAL W/O MCC'\n",
      " '473 - CERVICAL SPINAL FUSION W/O CC/MCC'\n",
      " '418 - LAPAROSCOPIC CHOLECYSTECTOMY W/O C.D.E. W CC'\n",
      " '419 - LAPAROSCOPIC CHOLECYSTECTOMY W/O C.D.E. W/O CC/MCC'\n",
      " '469 - MAJOR JOINT REPLACEMENT OR REATTACHMENT OF LOWER EXTREMITY W MCC'\n",
      " '470 - MAJOR JOINT REPLACEMENT OR REATTACHMENT OF LOWER EXTREMITY W/O MCC'\n",
      " '480 - HIP & FEMUR PROCEDURES EXCEPT MAJOR JOINT W MCC'\n",
      " '481 - HIP & FEMUR PROCEDURES EXCEPT MAJOR JOINT W CC'\n",
      " '536 - FRACTURES OF HIP & PELVIS W/O MCC'\n",
      " '482 - HIP & FEMUR PROCEDURES EXCEPT MAJOR JOINT W/O CC/MCC'\n",
      " '552 - MEDICAL BACK PROBLEMS W/O MCC'\n",
      " '491 - BACK & NECK PROC EXC SPINAL FUSION W/O CC/MCC'\n",
      " '563 - FX, SPRN, STRN & DISL EXCEPT FEMUR, HIP, PELVIS & THIGH W/O MCC'\n",
      " '602 - CELLULITIS W MCC' '603 - CELLULITIS W/O MCC' '638 - DIABETES W CC'\n",
      " '640 - MISC DISORDERS OF NUTRITION,METABOLISM,FLUIDS/ELECTROLYTES W MCC'\n",
      " '682 - RENAL FAILURE W MCC'\n",
      " '641 - MISC DISORDERS OF NUTRITION,METABOLISM,FLUIDS/ELECTROLYTES W/O MCC'\n",
      " '683 - RENAL FAILURE W CC' '684 - RENAL FAILURE W/O CC/MCC'\n",
      " '689 - KIDNEY & URINARY TRACT INFECTIONS W MCC'\n",
      " '690 - KIDNEY & URINARY TRACT INFECTIONS W/O MCC'\n",
      " '811 - RED BLOOD CELL DISORDERS W MCC'\n",
      " '698 - OTHER KIDNEY & URINARY TRACT DIAGNOSES W MCC'\n",
      " '699 - OTHER KIDNEY & URINARY TRACT DIAGNOSES W CC'\n",
      " '812 - RED BLOOD CELL DISORDERS W/O MCC'\n",
      " '853 - INFECTIOUS & PARASITIC DISEASES W O.R. PROCEDURE W MCC'\n",
      " '885 - PSYCHOSES' '870 - SEPTICEMIA OR SEVERE SEPSIS W MV 96+ HOURS'\n",
      " '871 - SEPTICEMIA OR SEVERE SEPSIS W/O MV 96+ HOURS W MCC'\n",
      " '872 - SEPTICEMIA OR SEVERE SEPSIS W/O MV 96+ HOURS W/O MCC'\n",
      " '897 - ALCOHOL/DRUG ABUSE OR DEPENDENCE W/O REHABILITATION THERAPY W/O MCC'\n",
      " '948 - SIGNS & SYMPTOMS W/O MCC'\n",
      " '917 - POISONING & TOXIC EFFECTS OF DRUGS W MCC'\n",
      " '918 - POISONING & TOXIC EFFECTS OF DRUGS W/O MCC']\n"
     ]
    }
   ],
   "source": [
    "drg_table = get_unique('drg_desc')"
   ]
  },
  {
   "cell_type": "code",
   "execution_count": 30,
   "metadata": {},
   "outputs": [
    {
     "name": "stdout",
     "output_type": "stream",
     "text": [
      "referral_region_desc\n",
      "163065\n",
      "306\n",
      "['AL - Dothan' 'AL - Birmingham' 'AL - Montgomery' 'AL - Huntsville'\n",
      " 'AL - Mobile' 'AL - Tuscaloosa' 'AK - Anchorage' 'AZ - Phoenix'\n",
      " 'AZ - Tucson' 'AZ - Sun City' 'AZ - Mesa' 'NV - Las Vegas'\n",
      " 'AR - Springdale' 'AR - Little Rock' 'AR - Jonesboro' 'MO - Springfield'\n",
      " 'AR - Fort Smith' 'CA - Redding' 'CA - San Mateo County' 'CA - Napa'\n",
      " 'CA - Sacramento' 'CA - San Diego' 'CA - Bakersfield' 'CA - Chico'\n",
      " 'CA - Los Angeles' 'CA - Orange County' 'CA - Ventura' 'CA - Stockton'\n",
      " 'CA - Fresno' 'CA - Santa Barbara' 'CA - Santa Rosa' 'CA - Modesto'\n",
      " 'CA - Contra Costa County' 'CA - San Luis Obispo'\n",
      " 'CA - Palm Springs/Rancho M' 'CA - San Jose' 'CA - Salinas'\n",
      " 'CA - San Francisco' 'CA - San Bernardino' 'CO - Greeley'\n",
      " 'NM - Albuquerque' 'CO - Denver' 'CO - Pueblo' 'CO - Colorado Springs'\n",
      " 'CO - Grand Junction' 'CT - New Haven' 'CT - Hartford' 'CT - Bridgeport'\n",
      " 'DE - Wilmington' 'MD - Salisbury' 'DC - Washington'\n",
      " 'FL - Fort Lauderdale' 'FL - Orlando' 'FL - Fort Myers'\n",
      " 'FL - Ormond Beach' 'FL - Ocala' 'FL - Pensacola' 'FL - Panama City'\n",
      " 'FL - Miami' 'FL - Bradenton' 'FL - Jacksonville' 'FL - Tampa'\n",
      " 'FL - St. Petersburg' 'FL - Sarasota' 'FL - Hudson' 'FL - Gainesville'\n",
      " 'FL - Clearwater' 'FL - Tallahassee' 'FL - Lakeland' 'GA - Albany'\n",
      " 'GA - Atlanta' 'GA - Augusta' 'GA - Savannah' 'GA - Rome' 'GA - Macon'\n",
      " 'GA - Columbus' 'HI - Honolulu' 'ID - Boise' 'ID - Idaho Falls'\n",
      " 'UT - Salt Lake City' 'WA - Spokane' 'IL - Joliet' 'IL - Melrose Park'\n",
      " 'IL - Evanston' 'IL - Peoria' 'IL - Springfield' 'IL - Aurora'\n",
      " 'IL - Elgin' 'IL - Rockford' 'MO - St. Louis' 'IL - Blue Island'\n",
      " 'IL - Urbana' 'IL - Chicago' 'IL - Bloomington' 'KY - Paducah'\n",
      " 'WI - Milwaukee' 'IL - Hinsdale' 'IA - Davenport' 'IN - Gary'\n",
      " 'KY - Louisville' 'IN - South Bend' 'IN - Fort Wayne' 'IN - Terre Haute'\n",
      " 'IN - Evansville' 'IN - Indianapolis' 'IN - Muncie' 'IN - Munster'\n",
      " 'IN - Lafayette' 'IA - Des Moines' 'IA - Cedar Rapids' 'NE - Omaha'\n",
      " 'IA - Iowa City' 'IA - Mason City' 'IA - Dubuque' 'IA - Waterloo'\n",
      " 'IA - Sioux City' 'KS - Wichita' 'KS - Topeka' 'MO - Kansas City'\n",
      " 'WV - Huntington' 'KY - Lexington' 'TN - Nashville' 'KY - Covington'\n",
      " 'KY - Owensboro' 'LA - Lafayette' 'LA - Houma' 'LA - Baton Rouge'\n",
      " 'LA - Alexandria' 'LA - Lake Charles' 'LA - New Orleans' 'LA - Slidell'\n",
      " 'LA - Shreveport' 'LA - Metairie' 'LA - Monroe' 'ME - Portland'\n",
      " 'ME - Bangor' 'MD - Takoma Park' 'MD - Baltimore' 'MA - Worcester'\n",
      " 'RI - Providence' 'MA - Boston' 'NY - Albany' 'MA - Springfield'\n",
      " 'MI - Muskegon' 'MI - Kalamazoo' 'MI - Royal Oak' 'MI - Dearborn'\n",
      " 'MI - St. Joseph' 'MI - Pontiac' 'MI - Detroit' 'MI - Saginaw'\n",
      " 'MI - Grand Rapids' 'MI - Ann Arbor' 'MI - Marquette'\n",
      " 'MI - Traverse City' 'MI - Petoskey' 'MI - Flint' 'MI - Lansing'\n",
      " 'MN - Minneapolis' 'MN - Duluth' 'MN - Rochester' 'MN - St. Cloud'\n",
      " 'MN - St. Paul' 'ND - Fargo/Moorhead MN' 'MS - Jackson' 'MS - Tupelo'\n",
      " 'TN - Memphis' 'MS - Gulfport' 'MS - Oxford' 'MS - Meridian'\n",
      " 'MS - Hattiesburg' 'TX - Dallas' 'MO - Joplin' 'MO - Columbia'\n",
      " 'MO - Cape Girardeau' 'MT - Billings' 'MT - Great Falls' 'MT - Missoula'\n",
      " 'NE - Lincoln' 'NV - Reno' 'NH - Manchester' 'NH - Lebanon'\n",
      " 'NJ - Hackensack' 'NJ - Newark' 'NJ - Ridgewood' 'NJ - Camden'\n",
      " 'NJ - Morristown' 'NJ - Paterson' 'PA - Philadelphia'\n",
      " 'NJ - New Brunswick' 'TX - El Paso' 'TX - Lubbock' 'NY - Buffalo'\n",
      " 'NY - Binghamton' 'NY - Manhattan' 'NY - Elmira' 'NY - Bronx'\n",
      " 'NY - East Long Island' 'NY - Rochester' 'NY - White Plains'\n",
      " 'NY - Syracuse' 'VT - Burlington' 'NC - Charlotte' 'NC - Asheville'\n",
      " 'NC - Winston-Salem' 'NC - Greenville' 'NC - Raleigh' 'NC - Durham'\n",
      " 'NC - Greensboro' 'VA - Norfolk' 'NC - Hickory' 'NC - Wilmington'\n",
      " 'ND - Bismarck' 'ND - Minot' 'ND - Grand Forks' 'OH - Columbus'\n",
      " 'OH - Dayton' 'OH - Akron' 'OH - Cleveland' 'OH - Toledo'\n",
      " 'OH - Cincinnati' 'OH - Youngstown' 'OH - Canton' 'OH - Kettering'\n",
      " 'OH - Elyria' 'PA - Pittsburgh' 'OK - Tulsa' 'OK - Oklahoma City'\n",
      " 'OK - Lawton' 'OR - Medford' 'OR - Portland' 'OR - Eugene' 'OR - Bend'\n",
      " 'OR - Salem' 'PA - Scranton' 'PA - Danville' 'PA - Erie' 'PA - Reading'\n",
      " 'PA - York' 'PA - Allentown' 'PA - Harrisburg' 'PA - Altoona'\n",
      " 'PA - Lancaster' 'PA - Johnstown' 'PA - Wilkes-Barre' 'SC - Charleston'\n",
      " 'SC - Spartanburg' 'SC - Columbia' 'SC - Greenville' 'SC - Florence'\n",
      " 'SD - Sioux Falls' 'SD - Rapid City' 'TN - Jackson' 'TX - Odessa'\n",
      " 'TN - Knoxville' 'TN - Kingsport' 'TN - Johnson City' 'TN - Chattanooga'\n",
      " 'TX - San Antonio' 'TX - Wichita Falls' 'TX - Bryan' 'TX - Victoria'\n",
      " 'TX - Harlingen' 'TX - Beaumont' 'TX - Longview' 'TX - Waco'\n",
      " 'TX - Corpus Christi' 'TX - Temple' 'TX - Austin' 'TX - Fort Worth'\n",
      " 'TX - Houston' 'TX - Tyler' 'AR - Texarkana' 'TX - Amarillo'\n",
      " 'TX - Abilene' 'TX - San Angelo' 'TX - McAllen' 'UT - Provo' 'UT - Ogden'\n",
      " 'VA - Charlottesville' 'VA - Winchester' 'VA - Lynchburg' 'VA - Richmond'\n",
      " 'VA - Roanoke' 'VA - Arlington' 'VA - Newport News' 'WA - Seattle'\n",
      " 'WA - Yakima' 'WA - Everett' 'WA - Olympia' 'WA - Tacoma'\n",
      " 'WV - Morgantown' 'WV - Charleston' 'WI - La Crosse' 'WI - Madison'\n",
      " 'WI - Wausau' 'WI - Marshfield' 'WI - Green Bay' 'WI - Appleton'\n",
      " 'WY - Casper' 'CO - Fort Collins' 'CA - Alameda County' 'CO - Boulder'\n",
      " 'PA - Sayre' 'CA - Santa Cruz' 'WI - Neenah']\n"
     ]
    }
   ],
   "source": [
    "referral_region_table = get_unique('referral_region_desc')"
   ]
  },
  {
   "cell_type": "code",
   "execution_count": 31,
   "metadata": {},
   "outputs": [
    {
     "name": "stdout",
     "output_type": "stream",
     "text": [
      "street\n",
      "163065\n",
      "3326\n",
      "['1108 ROSS CLARK CIRCLE' '2505 U S HIGHWAY 431 NORTH'\n",
      " '205 MARENGO STREET' ... '136 W DIAMOND STREET' '1033 W GERMANTOWN PIKE'\n",
      " '100 EAGLEVILLE RD']\n"
     ]
    }
   ],
   "source": [
    "address_table = get_unique('street')\n",
    "\n",
    "for each in address_table: \n",
    "    # Create a new address ID\n",
    "    # Pull associated street \n",
    "    # Pull associated zip"
   ]
  },
  {
   "cell_type": "code",
   "execution_count": 32,
   "metadata": {},
   "outputs": [
    {
     "name": "stdout",
     "output_type": "stream",
     "text": [
      "city_name\n",
      "163065\n",
      "1977\n",
      "['DOTHAN' 'BOAZ' 'FLORENCE' ... 'HAMLIN' 'CATAWBA' 'EAGLEVILLE']\n"
     ]
    }
   ],
   "source": [
    "city_table = get_unique('city_name')"
   ]
  },
  {
   "cell_type": "code",
   "execution_count": 34,
   "metadata": {},
   "outputs": [
    {
     "name": "stdout",
     "output_type": "stream",
     "text": [
      "state_name\n",
      "163065\n",
      "51\n",
      "['AL' 'AK' 'AZ' 'AR' 'CA' 'CO' 'CT' 'DE' 'DC' 'FL' 'GA' 'HI' 'ID' 'IL'\n",
      " 'IN' 'IA' 'KS' 'KY' 'LA' 'ME' 'MD' 'MA' 'MI' 'MN' 'MS' 'TX' 'MO' 'MT'\n",
      " 'NE' 'NV' 'NH' 'NJ' 'NM' 'NY' 'NC' 'ND' 'OH' 'OK' 'OR' 'PA' 'RI' 'SC'\n",
      " 'SD' 'TN' 'UT' 'VT' 'VA' 'WA' 'WV' 'WI' 'WY']\n"
     ]
    }
   ],
   "source": [
    "state_table = get_unique('state_name')"
   ]
  },
  {
   "cell_type": "code",
   "execution_count": 24,
   "metadata": {},
   "outputs": [],
   "source": [
    "def get_unique(var_name):\n",
    "    print(var_name)\n",
    "    state_temp = df[var_name]\n",
    "    print(state_temp.size)\n",
    "    state_uniq = state_temp.unique()\n",
    "    print(state_uniq.size)\n",
    "    print(state_uniq)\n",
    "    return state_uniq"
   ]
  },
  {
   "cell_type": "markdown",
   "metadata": {},
   "source": [
    "## Table SQL code"
   ]
  },
  {
   "cell_type": "markdown",
   "metadata": {},
   "source": []
  },
  {
   "cell_type": "markdown",
   "metadata": {},
   "source": [
    "CREATE TABLE IF NOT EXISTS provider\n",
    "  (\n",
    "    provider_id INTEGER NOT NULL AUTO_INCREMENT UNIQUE,\n",
    "    old_provider_id VARCHAR(100) NOT NULL,\n",
    "    provider_name VARCHAR(100) NOT NULL UNIQUE,\n",
    "    referral_region_id INTEGER NOT NULL UNIQUE, \n",
    "    address_id INTEGER NOT NULL,\n",
    "    PRIMARY KEY (provider_id),\n",
    "    FOREIGN KEY (referral_region_id) REFERENCES referral_region(referral_region_id) ON DELETE RESTRICT ON UPDATE CASCADE,\n",
    "    FOREIGN KEY (address_id) REFERENCES address(address_id) ON DELETE RESTRICT ON UPDATE CASCADE\n",
    "  )\n",
    "ENGINE=InnoDB\n",
    "CHARACTER SET utf8mb4\n",
    "COLLATE utf8mb4_0900_ai_ci;"
   ]
  },
  {
   "cell_type": "markdown",
   "metadata": {},
   "source": [
    "CREATE TABLE IF NOT EXISTS city\n",
    "  (\n",
    "    city_id INTEGER NOT NULL AUTO_INCREMENT UNIQUE,\n",
    "    city_name VARCHAR(100) NOT NULL UNIQUE,\n",
    "    state_id INTEGER NOT NULL,\n",
    "    PRIMARY KEY (city_id),\n",
    "    FOREIGN KEY (state_id) REFERENCES state(state_id) ON DELETE RESTRICT ON UPDATE CASCADE\n",
    "  )\n",
    "ENGINE=InnoDB\n",
    "CHARACTER SET utf8mb4\n",
    "COLLATE utf8mb4_0900_ai_ci;"
   ]
  },
  {
   "cell_type": "markdown",
   "metadata": {},
   "source": [
    "## Old code"
   ]
  },
  {
   "cell_type": "code",
   "execution_count": 35,
   "metadata": {},
   "outputs": [
    {
     "name": "stdout",
     "output_type": "stream",
     "text": [
      "163065\n",
      "51\n",
      "['AL' 'AK' 'AZ' 'AR' 'CA' 'CO' 'CT' 'DE' 'DC' 'FL' 'GA' 'HI' 'ID' 'IL'\n",
      " 'IN' 'IA' 'KS' 'KY' 'LA' 'ME' 'MD' 'MA' 'MI' 'MN' 'MS' 'TX' 'MO' 'MT'\n",
      " 'NE' 'NV' 'NH' 'NJ' 'NM' 'NY' 'NC' 'ND' 'OH' 'OK' 'OR' 'PA' 'RI' 'SC'\n",
      " 'SD' 'TN' 'UT' 'VT' 'VA' 'WA' 'WV' 'WI' 'WY']\n"
     ]
    }
   ],
   "source": [
    "state_temp = df['state_name']\n",
    "print(state_temp.size)\n",
    "state_uniq = state_temp.unique()\n",
    "print(state_uniq.size)\n",
    "print(state_uniq)"
   ]
  }
 ],
 "metadata": {
  "kernelspec": {
   "display_name": "Python 3",
   "language": "python",
   "name": "python3"
  },
  "language_info": {
   "codemirror_mode": {
    "name": "ipython",
    "version": 3
   },
   "file_extension": ".py",
   "mimetype": "text/x-python",
   "name": "python",
   "nbconvert_exporter": "python",
   "pygments_lexer": "ipython3",
   "version": "3.7.0"
  }
 },
 "nbformat": 4,
 "nbformat_minor": 2
}
